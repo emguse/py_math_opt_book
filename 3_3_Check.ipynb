{
 "cells": [
  {
   "cell_type": "code",
   "execution_count": 1,
   "metadata": {},
   "outputs": [
    {
     "name": "stderr",
     "output_type": "stream",
     "text": [
      "<>:5: SyntaxWarning: invalid escape sequence '\\l'\n",
      "<>:5: SyntaxWarning: invalid escape sequence '\\l'\n",
      "/tmp/ipykernel_3384201/442614755.py:5: SyntaxWarning: invalid escape sequence '\\l'\n",
      "  \"\"\"\n"
     ]
    },
    {
     "data": {
      "text/html": [
       "<table width=\"320\">\n",
       "  <tr><td style=\"text-align: center;\">モデル</td></tr>\n",
       "  <tr><td><table width=\"100%\">\n",
       "<tr><td rowspan=\"2\" style=\"text-align: left;\" width=\"64\">変数</td><td width=\"64\">x :</td><td>非負変数</td></tr>\n",
       "<tr><td width=\"64\">y :</td><td>非負変数</td></tr>\n",
       "</table></td></tr>\n",
       "  <tr><td><table width=\"100%\"><tr><td style=\"text-align: left;\" width=\"64\">目的関数</td><td>2.0x + y  → 最大化</td></tr></table></td></tr>\n",
       "  <tr><td><table width=\"100%\">\n",
       "<tr><td rowspan=\"2\" style=\"text-align: left;\" width=\"64\">制約条件</td><td>x + y  ≦ 2.0</td></tr>\n",
       "<tr><td>x - y  ≦ - 0.0</td></tr>\n",
       "</table></td></tr>\n",
       "</table>"
      ],
      "text/plain": [
       "<IPython.core.display.HTML object>"
      ]
     },
     "execution_count": 1,
     "metadata": {},
     "output_type": "execute_result"
    }
   ],
   "source": [
    "from mip import Model, maximize\n",
    "from mip_tool.view import view_model\n",
    "\n",
    "\n",
    "\"\"\"\n",
    "This code sets up a mathematical optimization problem with two decision \n",
    "variables x and y, maximizing the objective function 2x + y subject to \n",
    "two constraints: x + y \\leq 2 and x \\leq y. The model is visualized \n",
    "using the view_model function before being solved.\n",
    "\"\"\"\n",
    "\n",
    "\n",
    "# Create a MIP model\n",
    "m = Model()\n",
    "\n",
    "# Define decision variables x and y\n",
    "x = m.add_var(\"x\")\n",
    "y = m.add_var(\"y\")\n",
    "\n",
    "# Set the objective function to maximize 2*x + y\n",
    "m.objective = maximize(2 * x + y)\n",
    "\n",
    "# Add constraints:\n",
    "# x + y <= 2\n",
    "m += x + y <= 2\n",
    "\n",
    "# x <= y\n",
    "m += x <= y\n",
    "\n",
    "# Visualize the model (using view_model function)\n",
    "view_model(m)"
   ]
  }
 ],
 "metadata": {
  "kernelspec": {
   "display_name": ".venv",
   "language": "python",
   "name": "python3"
  },
  "language_info": {
   "codemirror_mode": {
    "name": "ipython",
    "version": 3
   },
   "file_extension": ".py",
   "mimetype": "text/x-python",
   "name": "python",
   "nbconvert_exporter": "python",
   "pygments_lexer": "ipython3",
   "version": "3.12.6"
  }
 },
 "nbformat": 4,
 "nbformat_minor": 2
}
