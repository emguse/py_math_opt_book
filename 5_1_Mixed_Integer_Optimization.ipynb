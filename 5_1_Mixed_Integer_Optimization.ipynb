{
 "cells": [
  {
   "cell_type": "markdown",
   "metadata": {},
   "source": [
    "Linear Optimization: How many grams of cake batter to use\n",
    "\n",
    "Linear optimization solves problems where the goal is to maximize or minimize continuous quantities. For example, if you’re optimizing the amount of cake batter needed, the decision would be about how many grams of ingredients (flour, sugar, butter, etc.) to use. In this case, the variables represent continuous quantities, such as “how many grams of batter to use.”\n",
    "\n",
    "For instance, if you need 200g of flour, 100g of sugar, and 50g of butter to make a cake and want to minimize the total amount of ingredients while meeting certain nutritional values, this would be a linear optimization problem, since the ingredient amounts are continuous values.\n",
    "\n",
    "Mixed-Integer Optimization: How many finished cakes to produce\n",
    "\n",
    "Mixed-integer optimization involves both integer and continuous variables. For example, when deciding how many cakes to produce, cakes can only be made in whole numbers (1, 2, etc.), so you need integer variables.\n",
    "\n",
    "While the use of cake batter might be represented by continuous variables, the number of cakes you produce must be an integer. Thus, a mixed-integer optimization problem arises when you need to optimize both the amount of batter used (a continuous variable) and the number of cakes (an integer variable). An example would be maximizing profit by determining both how much batter to use and how many cakes to produce.\n",
    "\n",
    "Both approaches have different applications depending on whether you’re dealing with continuous resources like materials or discrete items like finished products."
   ]
  },
  {
   "cell_type": "markdown",
   "metadata": {
    "vscode": {
     "languageId": "plaintext"
    }
   },
   "source": [
    "Discrete Variables\n",
    "\n",
    "Discrete variables are variables that take on specific, fixed values, unlike continuous variables which can take any value within a range. Discrete variables are mainly categorized into two types: “integer variables” and “0-1 variables (binary variables).”\n",
    "\n",
    "Integer Variables\n",
    "\n",
    "Integer variables take only integer values. This means fractional values like 1.5 or 2.3 are not allowed. For example, if you’re deciding how many products to produce in a factory, the number of products must be a whole number, making it an integer variable.\n",
    "\n",
    "Example: The number of products produced in a factory (1, 2, etc.).\n",
    "\n",
    "0-1 Variables (Binary Variables)\n",
    "\n",
    "0-1 variables are variables that can only take the value 0 or 1. These are used to represent binary decisions, such as whether to select or not select something, or whether something exists or doesn’t exist. For example, when deciding whether or not to execute a project, 0 would mean “do not execute” and 1 would mean “execute.”\n",
    "\n",
    "Example: Project selection (whether to execute a project or not).\n",
    "\n",
    "In both cases, discrete variables are critical when modeling problems that involve decisions where only specific, distinct options are available."
   ]
  },
  {
   "cell_type": "markdown",
   "metadata": {},
   "source": [
    "線形最適化（Linear Optimization）：ケーキの生地を何g使うか\n",
    "\n",
    "線形最適化は、連続的な量を最大化または最小化する問題を解決する手法です。たとえば、ケーキを作るために必要な生地の量を最適化する場合、どれだけの材料（小麦粉、砂糖、バターなど）を使うかが連続的な変数になります。この場合、「生地を何g使うか」という連続的な量を決定します。\n",
    "\n",
    "例として、小麦粉200g、砂糖100g、バター50gの材料でケーキを作るときに、材料の合計量を最小化しつつ、特定の栄養価を満たすようにしたいとします。材料の重さは連続的な値をとるため、これが線形最適化問題となります。\n",
    "\n",
    "混合整数最適化（Mixed-Integer Optimization）：ケーキの完成品を何個作るか\n",
    "\n",
    "混合整数最適化は、整数変数と連続変数の両方を扱う最適化手法です。たとえば、ケーキを実際に「何個」作るかを最適化する場合、ケーキは1個、2個などの整数単位でしか作れないため、整数変数が必要になります。\n",
    "\n",
    "ケーキを作るための生地の使い方は連続的な変数で表現されますが、完成品としてのケーキの数は整数でなければなりません。これにより、生地の使用量と完成品の個数の両方を最適化する問題が混合整数最適化になります。たとえば、ケーキの利益を最大化するために、生地の使用量とケーキの個数を同時に決定する問題が考えられます。"
   ]
  },
  {
   "cell_type": "markdown",
   "metadata": {
    "vscode": {
     "languageId": "plaintext"
    }
   },
   "source": [
    "離散変数（Discrete Variables）\n",
    "\n",
    "離散変数は、特定の決まった値しか取らない変数です。連続変数が任意の実数値を取るのに対して、離散変数は整数や特定の範囲内の値のみを持ちます。離散変数には主に「整数変数」と「0-1変数（バイナリ変数）」の2種類があります。\n",
    "\n",
    "整数変数（Integer Variables）\n",
    "\n",
    "整数変数は、整数のみを取る変数です。これにより、1つ、2つ、3つなど、部分的な数値（1.5や2.3など）は許されません。たとえば、工場での生産量を決定する際に、製品を「何個」作るかは整数でなければならず、これは整数変数を使って表現されます。\n",
    "\n",
    "例: 工場での製品の生産量（1個、2個など）\n",
    "\n",
    "0-1変数（0-1 Variables または バイナリ変数）\n",
    "\n",
    "0-1変数は、値が0または1のいずれかしか取らない変数です。これは、何かを「選択するかしないか」、「存在するか存在しないか」といった二者択一の選択を表現するために使われます。例えば、あるプロジェクトを実行するか否かを決める場合、0は「実行しない」、1は「実行する」を意味します。\n",
    "\n",
    "例: プロジェクトの選択（実行するかしないか）"
   ]
  }
 ],
 "metadata": {
  "language_info": {
   "name": "python"
  }
 },
 "nbformat": 4,
 "nbformat_minor": 2
}
