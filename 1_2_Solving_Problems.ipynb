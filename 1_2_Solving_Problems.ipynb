{
 "cells": [
  {
   "cell_type": "markdown",
   "metadata": {},
   "source": [
    "When solving problems using mathematical optimization, the process is grounded in logic and mathematical rigor, rather than relying on intuition or guesswork. The goal is to systematically find the optimal solution by formulating the problem as a mathematical model.\n",
    "\n",
    "1. Not Solving by Intuition: In complex problems, relying on intuition can lead to suboptimal or incorrect solutions. Instead of guessing, mathematical optimization uses precise methods to ensure that the best solution is found under given constraints.\n",
    "2. Applying Mathematical Optimization: The key to solving such problems is applying mathematical optimization techniques. By defining an objective function to maximize or minimize, and incorporating the constraints, we can model real-world problems as optimization problems.\n",
    "3. Developing a Custom Model from the Problem: It is crucial not to merely apply pre-built mathematical models embedded in optimization tools, but to thoughtfully construct a custom mathematical model that accurately represents the unique problem at hand. This involves identifying the relevant decision variables, formulating the objective function, and understanding the constraints specific to the situation.\n",
    "\n",
    "In summary, solving problems with mathematical optimization is a structured approach that leverages mathematical models to ensure accurate, optimal solutions, rather than relying on instinct or pre-built models.\n"
   ]
  },
  {
   "cell_type": "markdown",
   "metadata": {},
   "source": [
    "\n",
    "数理最適化を用いて問題を解決する際には、勘や直感に頼るのではなく、論理的かつ数理的なアプローチを取ります。目的は、問題を数式モデルに落とし込み、最適な解を見つけることです。\n",
    "\n",
    "1. 勘で問題解決はしない: 複雑な問題において、勘に頼ると最適でない解や誤った解を導きやすいです。数理最適化では、厳密な手法を用いて、与えられた制約のもとで最適な解を見つけます。\n",
    "2. 数理最適化を適用する: 問題解決のカギは、数理最適化の手法を適用することにあります。最大化または最小化する目的関数を定義し、制約を組み込むことで、現実の問題を最適化問題としてモデル化します。\n",
    "3. ツールに組み込まれた数理モデルではなく、問題から数理モデルを自ら考える: 最適化ツールに組み込まれている既存のモデルをそのまま使うのではなく、問題の特性を踏まえた独自の数理モデルを構築することが重要です。これには、適切な意思決定変数の特定、目的関数の定式化、問題固有の制約を理解し反映することが含まれます。\n",
    "\n",
    "まとめると、数理最適化を用いた問題解決は、直感ではなく数理モデルに基づき、正確で最適な解を導き出す体系的なアプローチです。"
   ]
  }
 ],
 "metadata": {
  "language_info": {
   "name": "python"
  }
 },
 "nbformat": 4,
 "nbformat_minor": 2
}
