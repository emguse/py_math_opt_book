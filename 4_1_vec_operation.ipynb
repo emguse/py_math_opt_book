{
 "cells": [
  {
   "cell_type": "code",
   "execution_count": 1,
   "metadata": {},
   "outputs": [
    {
     "name": "stdout",
     "output_type": "stream",
     "text": [
      "v * 2 = array([6, 8])\n",
      "v + 1 = array([4, 5])\n"
     ]
    }
   ],
   "source": [
    "import numpy as np\n",
    "\n",
    "v = np.array([3, 4])\n",
    "print(f\"{v * 2 = }\")\n",
    "print(f\"{v + 1 = }\")"
   ]
  },
  {
   "cell_type": "code",
   "execution_count": 2,
   "metadata": {},
   "outputs": [
    {
     "name": "stdout",
     "output_type": "stream",
     "text": [
      "v * [3, 2] = array([9, 8])\n",
      "v + [1, 2] = array([4, 6])\n"
     ]
    }
   ],
   "source": [
    "print(f\"{v * [3, 2] = }\")\n",
    "print(f\"{v + [1, 2] = }\")"
   ]
  }
 ],
 "metadata": {
  "kernelspec": {
   "display_name": ".venv",
   "language": "python",
   "name": "python3"
  },
  "language_info": {
   "codemirror_mode": {
    "name": "ipython",
    "version": 3
   },
   "file_extension": ".py",
   "mimetype": "text/x-python",
   "name": "python",
   "nbconvert_exporter": "python",
   "pygments_lexer": "ipython3",
   "version": "3.12.6"
  }
 },
 "nbformat": 4,
 "nbformat_minor": 2
}
