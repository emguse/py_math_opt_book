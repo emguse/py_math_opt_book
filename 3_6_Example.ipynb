{
 "cells": [
  {
   "cell_type": "code",
   "execution_count": 3,
   "metadata": {},
   "outputs": [
    {
     "data": {
      "text/html": [
       "<table width=\"320\">\n",
       "  <tr><td style=\"text-align: center;\">モデル</td></tr>\n",
       "  <tr><td><table width=\"100%\">\n",
       "<tr><td rowspan=\"2\" style=\"text-align: left;\" width=\"64\">変数</td><td width=\"64\">x :</td><td>非負変数</td></tr>\n",
       "<tr><td width=\"64\">y :</td><td>非負変数</td></tr>\n",
       "</table></td></tr>\n",
       "  <tr><td><table width=\"100%\"><tr><td style=\"text-align: left;\" width=\"64\">目的関数</td><td>なし</td></tr></table></td></tr>\n",
       "  <tr><td><table width=\"100%\">\n",
       "<tr><td rowspan=\"2\" style=\"text-align: left;\" width=\"64\">制約条件</td><td>x + y  = 5.0</td></tr>\n",
       "<tr><td>4.0x + 2.0y  = 14.0</td></tr>\n",
       "</table></td></tr>\n",
       "</table>"
      ],
      "text/plain": [
       "<IPython.core.display.HTML object>"
      ]
     },
     "execution_count": 3,
     "metadata": {},
     "output_type": "execute_result"
    }
   ],
   "source": [
    "from mip import Model\n",
    "from mip_tool.view import view_model\n",
    "\n",
    "\"\"\"\n",
    "This code models a problem where two types of animals (Animal A and Animal B) \n",
    "have a total population of 5, and the total number of legs they have is 14 \n",
    "(with 4 legs for Animal A and 2 legs for Animal B). \n",
    "The view_model function is used to visualize the model, \n",
    "and after optimization, the solution (the number of each type of animal) is printed.\n",
    "\"\"\"\n",
    "\n",
    "\n",
    "# Create a MIP model using the CBC solver\n",
    "m = Model(solver_name=\"CBC\")\n",
    "\n",
    "# Define decision variables:\n",
    "# x represents the number of Animal A\n",
    "# y represents the number of Animal B\n",
    "x = m.add_var(\"x\")  # Animal A\n",
    "y = m.add_var(\"y\")  # Animal B\n",
    "\n",
    "# Add constraints:\n",
    "# The total number of animals is 5\n",
    "m += x + y == 5  # Total Animal Population\n",
    "\n",
    "# The total number of legs from both species is 14, assuming Animal A has 4 legs and Animal B has 2 legs\n",
    "m += x * 4 + y * 2 == 14  # Number of legs of each species and their total\n",
    "\n",
    "# Visualize the model (view_model is assumed to provide a graphical view of the model)\n",
    "view_model(m)\n",
    "\n"
   ]
  },
  {
   "cell_type": "code",
   "execution_count": 2,
   "metadata": {},
   "outputs": [
    {
     "name": "stdout",
     "output_type": "stream",
     "text": [
      "2.0 3.0\n"
     ]
    }
   ],
   "source": [
    "# Set verbosity to 0 (silent mode) and solve the optimization problem\n",
    "m.verbose = 0\n",
    "m.optimize()\n",
    "\n",
    "# If an optimal solution is found, print the values of x (Animal A) and y (Animal B)\n",
    "if m.status.value == 0:\n",
    "    print(x.x, y.x)"
   ]
  },
  {
   "cell_type": "code",
   "execution_count": null,
   "metadata": {},
   "outputs": [],
   "source": []
  }
 ],
 "metadata": {
  "kernelspec": {
   "display_name": ".venv",
   "language": "python",
   "name": "python3"
  },
  "language_info": {
   "codemirror_mode": {
    "name": "ipython",
    "version": 3
   },
   "file_extension": ".py",
   "mimetype": "text/x-python",
   "name": "python",
   "nbconvert_exporter": "python",
   "pygments_lexer": "ipython3",
   "version": "3.12.6"
  }
 },
 "nbformat": 4,
 "nbformat_minor": 2
}
