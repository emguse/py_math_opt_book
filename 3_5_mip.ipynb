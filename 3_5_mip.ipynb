{
 "cells": [
  {
   "cell_type": "code",
   "execution_count": 1,
   "metadata": {},
   "outputs": [
    {
     "data": {
      "text/html": [
       "<table width=\"320\">\n",
       "  <tr><td style=\"text-align: center;\">モデル</td></tr>\n",
       "  <tr><td><table width=\"100%\">\n",
       "<tr><td rowspan=\"3\" style=\"text-align: left;\" width=\"64\">変数</td><td width=\"64\">x :</td><td>非負変数</td></tr>\n",
       "<tr><td width=\"64\">y :</td><td>非負変数</td></tr>\n",
       "<tr><td width=\"64\">z :</td><td>非負変数</td></tr>\n",
       "</table></td></tr>\n",
       "  <tr><td><table width=\"100%\"><tr><td style=\"text-align: left;\" width=\"64\">目的関数</td><td>2.0x + y - z  → 最大化</td></tr></table></td></tr>\n",
       "  <tr><td><table width=\"100%\">\n",
       "<tr><td rowspan=\"3\" style=\"text-align: left;\" width=\"64\">制約条件</td><td>x + y - z  ≦ 1.0</td></tr>\n",
       "<tr><td>x + z  ≦ 2.0</td></tr>\n",
       "<tr><td>x - y  ≦ - 0.0</td></tr>\n",
       "</table></td></tr>\n",
       "</table>"
      ],
      "text/plain": [
       "<IPython.core.display.HTML object>"
      ]
     },
     "execution_count": 1,
     "metadata": {},
     "output_type": "execute_result"
    }
   ],
   "source": [
    "from mip import Model, maximize\n",
    "from mip_tool.view import view_model\n",
    "\n",
    "\n",
    "\"\"\"\n",
    "This code defines a linear programming model with three variables x, y, and z, \n",
    "aiming to maximize the objective function 2x + y - z, \n",
    "subject to three linear constraints. After setting up the problem and \n",
    "visualizing the model with view_model, it solves the optimization and \n",
    "prints the values of the decision variables if an optimal solution is found.\n",
    "\"\"\"\n",
    "\n",
    "# Create a MIP model using the CBC solver\n",
    "m = Model(solver_name=\"CBC\")\n",
    "\n",
    "# Define decision variables x, y, and z\n",
    "x = m.add_var(\"x\")\n",
    "y = m.add_var(\"y\")\n",
    "z = m.add_var(\"z\")\n",
    "\n",
    "# Set the objective function to maximize 2*x + y - z\n",
    "m.objective = maximize(2 * x + y - z)\n",
    "\n",
    "# Add constraints:\n",
    "# x + y - z <= 1\n",
    "m += x + y - z <= 1\n",
    "\n",
    "# x + z <= 2\n",
    "m += x + z <= 2\n",
    "\n",
    "# x <= y\n",
    "m += x <= y\n",
    "\n",
    "# Visualize the model (using view_model function)\n",
    "view_model(m)\n",
    "\n",
    "\n"
   ]
  },
  {
   "cell_type": "code",
   "execution_count": 2,
   "metadata": {},
   "outputs": [
    {
     "name": "stdout",
     "output_type": "stream",
     "text": [
      "1.0 1.0 1.0\n"
     ]
    }
   ],
   "source": [
    "# Set verbosity to 0 (silent mode) and solve the optimization problem\n",
    "m.verbose = 0\n",
    "m.optimize()\n",
    "\n",
    "# If an optimal solution is found, print the values of x, y, and z\n",
    "if m.status.value == 0:\n",
    "    print(x.x, y.x, z.x)"
   ]
  }
 ],
 "metadata": {
  "kernelspec": {
   "display_name": ".venv",
   "language": "python",
   "name": "python3"
  },
  "language_info": {
   "codemirror_mode": {
    "name": "ipython",
    "version": 3
   },
   "file_extension": ".py",
   "mimetype": "text/x-python",
   "name": "python",
   "nbconvert_exporter": "python",
   "pygments_lexer": "ipython3",
   "version": "3.12.6"
  }
 },
 "nbformat": 4,
 "nbformat_minor": 2
}
