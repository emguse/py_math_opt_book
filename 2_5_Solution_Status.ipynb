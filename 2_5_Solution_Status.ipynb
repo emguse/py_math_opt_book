{
 "cells": [
  {
   "cell_type": "markdown",
   "metadata": {},
   "source": [
    "Solution Status in Linear Optimization\n",
    "\n",
    "In linear optimization problems, the status of the solution can vary based on the feasibility and the nature of the objective function. The solution status helps us understand whether an optimal solution exists, whether the problem is unsolvable, or whether the solution is unbounded. Here, we explain the three most common solution statuses:\n",
    "\n",
    "1.\tAn Optimal Solution May Not Exist: In some cases, it is impossible to find a solution that satisfies all the constraints while optimizing the objective function. This situation is marked as “INFEASIBLE.” It means that no combination of the variables satisfies the constraints, and thus there is no valid solution.\n",
    "2.\tThere Can Be Multiple or Infinite Optimal Solutions: Sometimes, the problem has more than one optimal solution. When the objective function aligns with one of the constraints, any point along that constraint could be an optimal solution, potentially resulting in multiple or even infinite optimal solutions. However, the solver typically returns one solution that satisfies the optimality criteria.\n",
    "3.\tThe Three Main Types of Solution Status:\n",
    "- Optimal Solution (OPTIMAL): This is the ideal scenario where the solver finds a single or multiple solutions that maximize or minimize the objective function while satisfying all constraints. The solution status is marked as “OPTIMAL,” meaning that the best possible outcome within the defined feasible region has been found.\n",
    "- Infeasible (INFEASIBLE): This occurs when the problem has no solution that satisfies all the constraints. In this case, it is impossible to find even a single feasible point where all constraints are met. The solver returns the status “INFEASIBLE,” indicating that the problem setup is not solvable as defined.\n",
    "- Unbounded (UNBOUNDED): In this case, the objective function can be improved indefinitely, either increasing or decreasing without limit, without violating any of the constraints. This typically occurs when there is a missing constraint that would normally limit the values of the variables. The solution status is marked as “UNBOUNDED,” indicating that the solution grows without bound and no optimal solution exists.\n",
    "\n",
    "In summary, the solution status provides crucial information on whether a linear optimization problem is solvable, whether it has no feasible solution, or whether it has solutions that extend infinitely.\n",
    "\n"
   ]
  },
  {
   "cell_type": "markdown",
   "metadata": {},
   "source": [
    "線形最適化における結果のステータス\n",
    "\n",
    "線形最適化問題の結果は、解が存在するかどうか、または目的関数がどのように最適化されるかによって異なります。解のステータスは、最適解の存在や問題の解決可能性に関する重要な情報を提供します。以下に、代表的な3種類のステータスについて詳しく説明します。\n",
    "\n",
    "1.\t最適解が存在しないこともある: すべての制約を満たしつつ、目的関数を最適化する解が存在しない場合もあります。この状態は「実行不可能（INFEASIBLE）」として表されます。これは、変数の組み合わせで制約をすべて満たすものが存在しないことを意味し、有効な解が存在しないことを示します。\n",
    "2.\t複数、無限に存在することもある: 時には、最適解が複数存在することもあります。これは、目的関数が制約の一つに沿う形で、制約に沿った任意の点が最適解となる場合です。この場合、解が無限に存在する可能性もありますが、通常ソルバーはそのうちの一つを返します。\n",
    "3.\t最適解の存在の仕方で代表的な3種類:\n",
    "- 最適解あり（OPTIMAL）: これは理想的な状態で、ソルバーが目的関数を最大化または最小化し、全ての制約を満たす解を見つけた場合です。このステータスは「OPTIMAL（最適解あり）」と表され、定義された実行可能領域内で最善の結果が得られたことを示します。\n",
    "- 実行不可能（INFEASIBLE）: このステータスは、全ての制約を満たす解が存在しない場合に発生します。この場合、制約を同時に満たす点が見つからず、問題を解くことができません。ソルバーは「INFEASIBLE（実行不可能）」という結果を返し、問題設定に誤りがあるか、現実的に解決不可能な状況であることを示します。\n",
    "- 非有界（UNBOUNDED）: これは、目的関数を無限に改善できる場合に発生します。制約を満たしながら、目的関数が無限に増加または減少する可能性がある場合、制約が不足していることが考えられます。この場合、解は無限に広がり、「UNBOUNDED（非有界）」として報告されます。最適な解が存在せず、無限に拡大できることを意味します。\n",
    "\n",
    "まとめると、解のステータスは、線形最適化問題が解決可能かどうか、解がないか、解が無限に存在するかを判断する重要な手掛かりとなります。"
   ]
  }
 ],
 "metadata": {
  "language_info": {
   "name": "python"
  }
 },
 "nbformat": 4,
 "nbformat_minor": 2
}
