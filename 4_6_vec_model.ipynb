{
 "cells": [
  {
   "cell_type": "code",
   "execution_count": 1,
   "metadata": {},
   "outputs": [
    {
     "name": "stdout",
     "output_type": "stream",
     "text": [
      "2000.0 1500.0 3500.0\n"
     ]
    }
   ],
   "source": [
    "from mip import Model, maximize\n",
    "\n",
    "m = Model(solver_name=\"CBC\")\n",
    "x = m.add_var(\"x\")\n",
    "y = m.add_var(\"y\")\n",
    "m.objective = maximize(x + y)\n",
    "m += 0.3 * x + 0.4 * y <= 1200\n",
    "m += 0.3 * x + 0.2 * y <= 900\n",
    "m.verbose = 0\n",
    "m.optimize()\n",
    "if m.status.value == 0:\n",
    "    print(round(x.x, 8), round(y.x, 8), m.objective_value)"
   ]
  },
  {
   "cell_type": "code",
   "execution_count": 2,
   "metadata": {},
   "outputs": [
    {
     "name": "stdout",
     "output_type": "stream",
     "text": [
      "[2000. 1500.] 3500.0\n"
     ]
    }
   ],
   "source": [
    "from mip import Model, maximize, xsum\n",
    "\n",
    "m = Model(solver_name=\"CBC\")\n",
    "\n",
    "v = m.add_var_tensor((2,), \"v\")\n",
    "\n",
    "m.objective = maximize(xsum(v))\n",
    "m += xsum([0.3, 0.4] * v) <= 1200\n",
    "m += xsum([0.3, 0.2] * v) <= 900\n",
    "m.verbose = 0\n",
    "m.optimize()\n",
    "if m.status.value == 0:\n",
    "    print(v.astype(float, subok=False), m.objective_value)"
   ]
  }
 ],
 "metadata": {
  "kernelspec": {
   "display_name": ".venv",
   "language": "python",
   "name": "python3"
  },
  "language_info": {
   "codemirror_mode": {
    "name": "ipython",
    "version": 3
   },
   "file_extension": ".py",
   "mimetype": "text/x-python",
   "name": "python",
   "nbconvert_exporter": "python",
   "pygments_lexer": "ipython3",
   "version": "3.12.6"
  }
 },
 "nbformat": 4,
 "nbformat_minor": 2
}
