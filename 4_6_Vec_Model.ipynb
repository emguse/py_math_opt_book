{
 "cells": [
  {
   "cell_type": "code",
   "execution_count": 1,
   "metadata": {},
   "outputs": [
    {
     "name": "stdout",
     "output_type": "stream",
     "text": [
      "2000.0 1500.0 3500.0\n"
     ]
    }
   ],
   "source": [
    "from mip import Model, maximize\n",
    "\n",
    "# Create a MIP model using the CBC solver\n",
    "m = Model(solver_name=\"CBC\")\n",
    "\n",
    "# Define decision variables x and y\n",
    "x = m.add_var(\"x\")\n",
    "y = m.add_var(\"y\")\n",
    "\n",
    "# Set the objective function to maximize x + y\n",
    "m.objective = maximize(x + y)\n",
    "\n",
    "# Add constraints:\n",
    "# 0.3 * x + 0.4 * y <= 1200\n",
    "m += 0.3 * x + 0.4 * y <= 1200\n",
    "\n",
    "# 0.3 * x + 0.2 * y <= 900\n",
    "m += 0.3 * x + 0.2 * y <= 900\n",
    "\n",
    "# Turn off verbose logging\n",
    "m.verbose = 0\n",
    "\n",
    "# Solve the optimization problem\n",
    "m.optimize()\n",
    "\n",
    "# Check if the model found an optimal solution and print the results\n",
    "if m.status.value == 0:\n",
    "    print(round(x.x, 8), round(y.x, 8), m.objective_value)"
   ]
  },
  {
   "cell_type": "code",
   "execution_count": 2,
   "metadata": {},
   "outputs": [
    {
     "name": "stdout",
     "output_type": "stream",
     "text": [
      "[2000. 1500.] 3500.0\n"
     ]
    }
   ],
   "source": [
    "from mip import Model, maximize, xsum\n",
    "\n",
    "# Create a MIP model using the CBC solver\n",
    "m = Model(solver_name=\"CBC\")\n",
    "\n",
    "# Define a vector of decision variables v with 2 elements\n",
    "v = m.add_var_tensor((2,), \"v\")\n",
    "\n",
    "# Set the objective function to maximize the sum of elements in v\n",
    "m.objective = maximize(xsum(v))\n",
    "\n",
    "# Add constraints:\n",
    "# 0.3 * v[0] + 0.4 * v[1] <= 1200\n",
    "m += xsum([0.3, 0.4] * v) <= 1200\n",
    "\n",
    "# 0.3 * v[0] + 0.2 * v[1] <= 900\n",
    "m += xsum([0.3, 0.2] * v) <= 900\n",
    "\n",
    "# Turn off verbose logging\n",
    "m.verbose = 0\n",
    "\n",
    "# Solve the optimization problem\n",
    "m.optimize()\n",
    "\n",
    "# Check if the model found an optimal solution and print the results\n",
    "if m.status.value == 0:\n",
    "    # Convert the solution vector to float and print it along with the objective value\n",
    "    print(v.astype(float, subok=False), m.objective_value)"
   ]
  }
 ],
 "metadata": {
  "kernelspec": {
   "display_name": ".venv",
   "language": "python",
   "name": "python3"
  },
  "language_info": {
   "codemirror_mode": {
    "name": "ipython",
    "version": 3
   },
   "file_extension": ".py",
   "mimetype": "text/x-python",
   "name": "python",
   "nbconvert_exporter": "python",
   "pygments_lexer": "ipython3",
   "version": "3.12.6"
  }
 },
 "nbformat": 4,
 "nbformat_minor": 2
}
