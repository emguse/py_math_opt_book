{
 "cells": [
  {
   "cell_type": "code",
   "execution_count": 1,
   "metadata": {},
   "outputs": [],
   "source": [
    "from mip import Model\n",
    "\n",
    "# Create a MIP model using the CBC solver\n",
    "m = Model(solver_name=\"CBC\")\n",
    "\n",
    "# Define a vector of decision variables v with 2 elements\n",
    "v = m.add_var_tensor((2,), \"v\")"
   ]
  },
  {
   "cell_type": "code",
   "execution_count": 2,
   "metadata": {},
   "outputs": [
    {
     "data": {
      "text/plain": [
       "array([nan, nan])"
      ]
     },
     "execution_count": 2,
     "metadata": {},
     "output_type": "execute_result"
    }
   ],
   "source": [
    "# Convert the vector to float representation\n",
    "v.astype(float, subok=False)\n"
   ]
  },
  {
   "cell_type": "code",
   "execution_count": 3,
   "metadata": {},
   "outputs": [
    {
     "name": "stdout",
     "output_type": "stream",
     "text": [
      "int() argument must be a string, a bytes-like object or a real number, not 'Var'\n"
     ]
    }
   ],
   "source": [
    "# Attempt to convert the vector to an integer representation\n",
    "# Catch any TypeError that occurs during this conversion\n",
    "try:\n",
    "    print(v.astype(int, subok=False))\n",
    "except TypeError as e:\n",
    "    # Print the exception message if a TypeError occurs\n",
    "    print(e)"
   ]
  }
 ],
 "metadata": {
  "kernelspec": {
   "display_name": ".venv",
   "language": "python",
   "name": "python3"
  },
  "language_info": {
   "codemirror_mode": {
    "name": "ipython",
    "version": 3
   },
   "file_extension": ".py",
   "mimetype": "text/x-python",
   "name": "python",
   "nbconvert_exporter": "python",
   "pygments_lexer": "ipython3",
   "version": "3.12.6"
  }
 },
 "nbformat": 4,
 "nbformat_minor": 2
}
