{
 "cells": [
  {
   "cell_type": "code",
   "execution_count": 1,
   "metadata": {},
   "outputs": [
    {
     "data": {
      "text/plain": [
       "'+ v_0 + v_1 '"
      ]
     },
     "execution_count": 1,
     "metadata": {},
     "output_type": "execute_result"
    }
   ],
   "source": [
    "from mip import Model, xsum\n",
    "\n",
    "# Create a MIP model\n",
    "m = Model()\n",
    "\n",
    "# Define a vector of decision variables v with 2 elements\n",
    "v = m.add_var_tensor((2,), \"v\")\n",
    "\n",
    "# Compute the sum of the elements in the vector v using xsum()\n",
    "xsum(v)\n",
    "\n",
    "# Get the string representation of the sum of elements in v\n",
    "str(xsum(v))\n",
    "\n",
    "# Note: You can also use sum(), but for handling a large number of elements,\n",
    "# xsum() is preferred as it performs smoother and more efficiently with large sums."
   ]
  }
 ],
 "metadata": {
  "kernelspec": {
   "display_name": ".venv",
   "language": "python",
   "name": "python3"
  },
  "language_info": {
   "codemirror_mode": {
    "name": "ipython",
    "version": 3
   },
   "file_extension": ".py",
   "mimetype": "text/x-python",
   "name": "python",
   "nbconvert_exporter": "python",
   "pygments_lexer": "ipython3",
   "version": "3.12.6"
  }
 },
 "nbformat": 4,
 "nbformat_minor": 2
}
