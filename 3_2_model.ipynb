{
 "cells": [
  {
   "cell_type": "code",
   "execution_count": 1,
   "metadata": {},
   "outputs": [
    {
     "data": {
      "text/html": [
       "<table width=\"320\">\n",
       "  <tr><td style=\"text-align: center;\">モデル</td></tr>\n",
       "  <tr><td><table width=\"100%\">\n",
       "<tr><td style=\"text-align: left;\" width=\"64\">変数</td><td>なし</td></tr></table></td></tr>\n",
       "  <tr><td><table width=\"100%\"><tr><td style=\"text-align: left;\" width=\"64\">目的関数</td><td>なし</td></tr></table></td></tr>\n",
       "  <tr><td><table width=\"100%\">\n",
       "<tr><td style=\"text-align: left;\" width=\"64\">制約条件</td><td>なし</td></tr></table></td></tr>\n",
       "</table>"
      ],
      "text/plain": [
       "<IPython.core.display.HTML object>"
      ]
     },
     "execution_count": 1,
     "metadata": {},
     "output_type": "execute_result"
    }
   ],
   "source": [
    "from mip import Model, maximize\n",
    "from mip_tool.view import view_model\n",
    "\n",
    "m = Model()\n",
    "view_model(m)"
   ]
  },
  {
   "cell_type": "code",
   "execution_count": 2,
   "metadata": {},
   "outputs": [
    {
     "data": {
      "text/html": [
       "<table width=\"320\">\n",
       "  <tr><td style=\"text-align: center;\">モデル</td></tr>\n",
       "  <tr><td><table width=\"100%\">\n",
       "<tr><td rowspan=\"2\" style=\"text-align: left;\" width=\"64\">変数</td><td width=\"64\">x :</td><td>非負変数</td></tr>\n",
       "<tr><td width=\"64\">y :</td><td>非負変数</td></tr>\n",
       "</table></td></tr>\n",
       "  <tr><td><table width=\"100%\"><tr><td style=\"text-align: left;\" width=\"64\">目的関数</td><td>なし</td></tr></table></td></tr>\n",
       "  <tr><td><table width=\"100%\">\n",
       "<tr><td style=\"text-align: left;\" width=\"64\">制約条件</td><td>なし</td></tr></table></td></tr>\n",
       "</table>"
      ],
      "text/plain": [
       "<IPython.core.display.HTML object>"
      ]
     },
     "execution_count": 2,
     "metadata": {},
     "output_type": "execute_result"
    }
   ],
   "source": [
    "x = m.add_var(\"x\")\n",
    "y = m.add_var(\"y\")\n",
    "view_model(m)"
   ]
  },
  {
   "cell_type": "code",
   "execution_count": 3,
   "metadata": {},
   "outputs": [
    {
     "data": {
      "text/html": [
       "<table width=\"320\">\n",
       "  <tr><td style=\"text-align: center;\">モデル</td></tr>\n",
       "  <tr><td><table width=\"100%\">\n",
       "<tr><td rowspan=\"2\" style=\"text-align: left;\" width=\"64\">変数</td><td width=\"64\">x :</td><td>非負変数</td></tr>\n",
       "<tr><td width=\"64\">y :</td><td>非負変数</td></tr>\n",
       "</table></td></tr>\n",
       "  <tr><td><table width=\"100%\"><tr><td style=\"text-align: left;\" width=\"64\">目的関数</td><td>x + y  → 最大化</td></tr></table></td></tr>\n",
       "  <tr><td><table width=\"100%\">\n",
       "<tr><td style=\"text-align: left;\" width=\"64\">制約条件</td><td>なし</td></tr></table></td></tr>\n",
       "</table>"
      ],
      "text/plain": [
       "<IPython.core.display.HTML object>"
      ]
     },
     "execution_count": 3,
     "metadata": {},
     "output_type": "execute_result"
    }
   ],
   "source": [
    "m.objective = maximize(x + y)\n",
    "view_model(m)"
   ]
  },
  {
   "cell_type": "code",
   "execution_count": 4,
   "metadata": {},
   "outputs": [
    {
     "data": {
      "text/html": [
       "<table width=\"320\">\n",
       "  <tr><td style=\"text-align: center;\">モデル</td></tr>\n",
       "  <tr><td><table width=\"100%\">\n",
       "<tr><td rowspan=\"2\" style=\"text-align: left;\" width=\"64\">変数</td><td width=\"64\">x :</td><td>非負変数</td></tr>\n",
       "<tr><td width=\"64\">y :</td><td>非負変数</td></tr>\n",
       "</table></td></tr>\n",
       "  <tr><td><table width=\"100%\"><tr><td style=\"text-align: left;\" width=\"64\">目的関数</td><td>x + y  → 最大化</td></tr></table></td></tr>\n",
       "  <tr><td><table width=\"100%\">\n",
       "<tr><td rowspan=\"2\" style=\"text-align: left;\" width=\"64\">制約条件</td><td>0.3x + 0.4y  ≦ 1200.0</td></tr>\n",
       "<tr><td>0.3x + 0.2y  ≦ 900.0</td></tr>\n",
       "</table></td></tr>\n",
       "</table>"
      ],
      "text/plain": [
       "<IPython.core.display.HTML object>"
      ]
     },
     "execution_count": 4,
     "metadata": {},
     "output_type": "execute_result"
    }
   ],
   "source": [
    "m += 0.3 * x + 0.4 * y <= 1200\n",
    "m += 0.3 * x + 0.2 * y <= 900\n",
    "view_model(m)"
   ]
  },
  {
   "cell_type": "code",
   "execution_count": null,
   "metadata": {},
   "outputs": [],
   "source": []
  }
 ],
 "metadata": {
  "kernelspec": {
   "display_name": ".venv",
   "language": "python",
   "name": "python3"
  },
  "language_info": {
   "codemirror_mode": {
    "name": "ipython",
    "version": 3
   },
   "file_extension": ".py",
   "mimetype": "text/x-python",
   "name": "python",
   "nbconvert_exporter": "python",
   "pygments_lexer": "ipython3",
   "version": "3.12.6"
  }
 },
 "nbformat": 4,
 "nbformat_minor": 2
}
