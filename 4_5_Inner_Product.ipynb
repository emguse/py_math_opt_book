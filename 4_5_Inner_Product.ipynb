{
 "cells": [
  {
   "cell_type": "code",
   "execution_count": 1,
   "metadata": {},
   "outputs": [
    {
     "data": {
      "text/plain": [
       "'+ 3b_0 + 4b_1 '"
      ]
     },
     "execution_count": 1,
     "metadata": {},
     "output_type": "execute_result"
    }
   ],
   "source": [
    "from mip import Model, xsum\n",
    "\n",
    "# Create a MIP model\n",
    "m = Model()\n",
    "\n",
    "# Define a list of constants\n",
    "a = [3, 4]\n",
    "\n",
    "# Define a vector of decision variables b with 2 elements\n",
    "b = m.add_var_tensor((2,), \"b\")\n",
    "\n",
    "# Calculate and return the string representation of the inner product of a and b\n",
    "# xsum computes the sum of element-wise products between a and b\n",
    "str(xsum(a * b))"
   ]
  }
 ],
 "metadata": {
  "kernelspec": {
   "display_name": ".venv",
   "language": "python",
   "name": "python3"
  },
  "language_info": {
   "codemirror_mode": {
    "name": "ipython",
    "version": 3
   },
   "file_extension": ".py",
   "mimetype": "text/x-python",
   "name": "python",
   "nbconvert_exporter": "python",
   "pygments_lexer": "ipython3",
   "version": "3.12.6"
  }
 },
 "nbformat": 4,
 "nbformat_minor": 2
}
