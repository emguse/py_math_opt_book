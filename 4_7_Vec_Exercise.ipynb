{
 "cells": [
  {
   "cell_type": "code",
   "execution_count": 1,
   "metadata": {},
   "outputs": [
    {
     "name": "stdout",
     "output_type": "stream",
     "text": [
      "[1. 1. 1.]\n"
     ]
    }
   ],
   "source": [
    "from mip import Model, maximize, xsum\n",
    "\n",
    "\n",
    "\"\"\"\n",
    "Maximize the objective function:   2 * x_0 + x_1 + x_2 \n",
    "\n",
    "Subject to the following constraints:\n",
    "\n",
    "\t1.\t x_0 + x_1 - x_2 \\leq 1 \n",
    "\t2.\t x_0 + x_2 \\leq 2 \n",
    "\t3.\t x_0 \\leq x_1 \n",
    "\n",
    "All variables  x_0, x_1, x_2  are non-negative.\n",
    "\"\"\"\n",
    "\n",
    "\n",
    "m = Model()\n",
    "\n",
    "x = m.add_var_tensor((3,), \"x\")\n",
    "m.objective = maximize(xsum([2,1,-1] * x))\n",
    "\n",
    "m += xsum([1, 1, -1] * x) <= 1\n",
    "m += xsum([1, 0, 1] * x) <= 2\n",
    "m += xsum([1, -1, 0] * x) <= 0\n",
    "\n",
    "m.verbose = 0\n",
    "\n",
    "m.optimize()\n",
    "if m.status.value == 0:\n",
    "    print(x.astype(float, subok=False))"
   ]
  }
 ],
 "metadata": {
  "kernelspec": {
   "display_name": ".venv",
   "language": "python",
   "name": "python3"
  },
  "language_info": {
   "codemirror_mode": {
    "name": "ipython",
    "version": 3
   },
   "file_extension": ".py",
   "mimetype": "text/x-python",
   "name": "python",
   "nbconvert_exporter": "python",
   "pygments_lexer": "ipython3",
   "version": "3.12.6"
  }
 },
 "nbformat": 4,
 "nbformat_minor": 2
}
