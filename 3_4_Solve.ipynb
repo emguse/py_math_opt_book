{
 "cells": [
  {
   "cell_type": "code",
   "execution_count": 1,
   "metadata": {},
   "outputs": [
    {
     "data": {
      "text/html": [
       "<table width=\"320\">\n",
       "  <tr><td style=\"text-align: center;\">モデル</td></tr>\n",
       "  <tr><td><table width=\"100%\">\n",
       "<tr><td rowspan=\"2\" style=\"text-align: left;\" width=\"64\">変数</td><td width=\"64\">x :</td><td>非負変数</td></tr>\n",
       "<tr><td width=\"64\">y :</td><td>非負変数</td></tr>\n",
       "</table></td></tr>\n",
       "  <tr><td><table width=\"100%\"><tr><td style=\"text-align: left;\" width=\"64\">目的関数</td><td>x + y  → 最大化</td></tr></table></td></tr>\n",
       "  <tr><td><table width=\"100%\">\n",
       "<tr><td rowspan=\"2\" style=\"text-align: left;\" width=\"64\">制約条件</td><td>0.3x + 0.4y  ≦ 1200.0</td></tr>\n",
       "<tr><td>0.3x + 0.2y  ≦ 900.0</td></tr>\n",
       "</table></td></tr>\n",
       "</table>"
      ],
      "text/plain": [
       "<IPython.core.display.HTML object>"
      ]
     },
     "execution_count": 1,
     "metadata": {},
     "output_type": "execute_result"
    }
   ],
   "source": [
    "from mip import Model, maximize\n",
    "from mip_tool.view import view_model\n",
    "\n",
    "\n",
    "\"\"\"\n",
    "This code defines a linear programming model with two decision variables x and y, \n",
    "aiming to maximize the objective x + y subject to two linear constraints. \n",
    "After setting up and visualizing the model using view_model, \n",
    "it solves the optimization and prints the results with rounded values \n",
    "if the solution is optimal.\n",
    "\"\"\"\n",
    "\n",
    "# Create a MIP model using the CBC solver\n",
    "m = Model(solver_name=\"CBC\")\n",
    "\n",
    "# Define decision variables x and y\n",
    "x = m.add_var(\"x\")\n",
    "y = m.add_var(\"y\")\n",
    "\n",
    "# Set the objective function to maximize x + y\n",
    "m.objective = maximize(x + y)\n",
    "\n",
    "# Add constraints:\n",
    "# 0.3 * x + 0.4 * y <= 1200\n",
    "m += 0.3 * x + 0.4 * y <= 1200\n",
    "\n",
    "# 0.3 * x + 0.2 * y <= 900\n",
    "m += 0.3 * x + 0.2 * y <= 900\n",
    "\n",
    "# Visualize the model (using view_model function)\n",
    "view_model(m)\n",
    "\n",
    "\n"
   ]
  },
  {
   "cell_type": "code",
   "execution_count": 2,
   "metadata": {},
   "outputs": [
    {
     "name": "stdout",
     "output_type": "stream",
     "text": [
      "Welcome to the CBC MILP Solver \n",
      "Version: Trunk\n",
      "Build Date: Oct 24 2021 \n",
      "\n",
      "Starting solution of the Linear programming problem using Primal Simplex\n",
      "\n",
      "Coin0506I Presolve 2 (0) rows, 2 (0) columns and 4 (0) elements\n",
      "Clp1000I sum of infeasibilities 4.46266e-09 - average 2.23133e-09, 0 fixed columns\n",
      "Coin0506I Presolve 2 (0) rows, 2 (0) columns and 4 (0) elements\n",
      "Clp0029I End of values pass after 2 iterations\n",
      "Clp0000I Optimal - objective value 3500\n",
      "Clp0000I Optimal - objective value 3500\n",
      "Clp0000I Optimal - objective value 3500\n",
      "Clp0032I Optimal objective 3500 - 0 iterations time 0.002, Idiot 0.00\n",
      "2000.0 1500.0 3500.0\n"
     ]
    }
   ],
   "source": [
    "# Solve the optimization problem\n",
    "m.optimize()\n",
    "\n",
    "# If an optimal solution is found, print the rounded values of x, y, and the objective value\n",
    "if m.status.value == 0:\n",
    "    print(round(x.x, 8), round(y.x, 8), m.objective_value)"
   ]
  }
 ],
 "metadata": {
  "kernelspec": {
   "display_name": ".venv",
   "language": "python",
   "name": "python3"
  },
  "language_info": {
   "codemirror_mode": {
    "name": "ipython",
    "version": 3
   },
   "file_extension": ".py",
   "mimetype": "text/x-python",
   "name": "python",
   "nbconvert_exporter": "python",
   "pygments_lexer": "ipython3",
   "version": "3.12.6"
  }
 },
 "nbformat": 4,
 "nbformat_minor": 2
}
